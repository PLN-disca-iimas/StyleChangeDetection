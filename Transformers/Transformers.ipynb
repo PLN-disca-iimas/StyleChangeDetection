{
 "cells": [
  {
   "cell_type": "code",
   "execution_count": 12,
   "id": "52effade-0829-4fb3-99f4-0b2d6d84c682",
   "metadata": {},
   "outputs": [],
   "source": [
    "import gensim\n",
    "import os\n",
    "import re\n",
    "import numpy as np\n",
    "import json as js\n",
    "import argparse\n",
    "import pandas as pd\n",
    "import sklearn\n",
    "import joblib\n",
    "import torch\n",
    "import matplotlib.pyplot as plt\n",
    "from sklearn.svm import SVC\n",
    "from sklearn.decomposition import PCA\n",
    "from sklearn.manifold import TSNE\n",
    "from sklearn.manifold import Isomap\n",
    "from gensim.models import KeyedVectors\n",
    "from transformers import BertTokenizer, BertModel\n",
    "\n"
   ]
  },
  {
   "cell_type": "code",
   "execution_count": 13,
   "id": "a12b47d9-4bb8-403e-b2a5-5cd8fc8c2b72",
   "metadata": {},
   "outputs": [],
   "source": [
    "tokenizer = BertTokenizer.from_pretrained('bert-base-uncased')\n",
    "model = BertModel.from_pretrained(\"bert-base-uncased\")\n",
    "\n",
    "#pooler_vector_np = pooler_vector.detach().numpy()"
   ]
  },
  {
   "cell_type": "code",
   "execution_count": 14,
   "id": "6f604ee6-e79c-432f-9347-4128fd6417c5",
   "metadata": {},
   "outputs": [],
   "source": [
    "def BERTvectorizer(token):\n",
    "    model = BertModel.from_pretrained(\"bert-base-uncased\")\n",
    "\n",
    "    encoded_input = []\n",
    "    encoded_input = token\n",
    "    if encoded_input.size(1)>512:\n",
    "        half_size=encoded_input.size(1)//2\n",
    "        encoded_input1=encoded_input[:,half_size:]\n",
    "        encoded_input2=encoded_input[:,:half_size]\n",
    "        output1=model(encoded_input1)\n",
    "        output2=model(encoded_input2)\n",
    "        pooler_vector1 = output1.pooler_output\n",
    "        pooler_vector_np1 = pooler_vector1.detach().numpy()\n",
    "        pooler_vector2 = output2.pooler_output\n",
    "        pooler_vector_np2 = pooler_vector2.detach().numpy()\n",
    "        pooler_vector_np = (pooler_vector1 + pooler_vector2)/2\n",
    "    \n",
    "    else: \n",
    "        output = model(encoded_input)\n",
    "        pooler_vector = output.pooler_output\n",
    "        pooler_vector_np = pooler_vector.detach().numpy()\n",
    "        return pooler_vector_np[0]\n",
    "    "
   ]
  },
  {
   "cell_type": "code",
   "execution_count": 15,
   "id": "d1dc163d-26eb-4004-88b9-a3068c9b4843",
   "metadata": {},
   "outputs": [],
   "source": [
    "def getPooler_vector(output):\n",
    "    pooler_vector = []\n",
    "    pooler_vector = output.pooler_output\n",
    "    pooler_vector_np = pooler_vector.detach().numpy()\n",
    "    return pooler_vector_np[0]\n",
    "    "
   ]
  },
  {
   "cell_type": "code",
   "execution_count": 16,
   "id": "1c7fb1c9-6bb5-49fd-800a-fe05bdb2de1c",
   "metadata": {},
   "outputs": [],
   "source": [
    "def getBERT_pooler_vector(tensor,model):\n",
    "    output=model(tensor)\n",
    "    pooler_vector = []\n",
    "    pooler_vector = output.pooler_output\n",
    "    pooler_vector_np = pooler_vector.detach().numpy()\n",
    "    return pooler_vector_np[0]\n",
    "    "
   ]
  },
  {
   "cell_type": "code",
   "execution_count": 17,
   "id": "7225019d-3cb8-45d7-9d5b-4d93b9356c98",
   "metadata": {},
   "outputs": [],
   "source": [
    "def getDataJSON(route):\n",
    "    with open(route,\"r\",encoding=\"utf-8\") as f:\n",
    "        result = [js.loads(jline.replace(\"diff\",\"value\")) for jline in f.read().splitlines()]\n",
    "    return result"
   ]
  },
  {
   "cell_type": "code",
   "execution_count": 18,
   "id": "5dced795-59e5-46f4-8a5e-2b8957955f0d",
   "metadata": {},
   "outputs": [],
   "source": [
    "def getSize(tensor):\n",
    "    tensorSize = tensor.size(1)\n",
    "    #if tensor.size(1)>512:\n",
    "        #tensor=tensor[:,:512]\n",
    "    return tensorSize"
   ]
  },
  {
   "cell_type": "code",
   "execution_count": 19,
   "id": "c1dc35fe-964e-4cc1-8f2b-77ecae089be4",
   "metadata": {},
   "outputs": [],
   "source": [
    "def downsize(tensor):\n",
    "    tensorSize = tensor.size(1)\n",
    "    if tensor.size(1)>512:\n",
    "        tensor=tensor[:,:512]\n",
    "    return tensor"
   ]
  },
  {
   "cell_type": "code",
   "execution_count": 20,
   "id": "7568b723-81ec-4652-b8c3-9564addea624",
   "metadata": {},
   "outputs": [],
   "source": [
    "def shortPandas(serie,n):\n",
    "    serie_acortada=serie[:n]\n",
    "    return serie_acortada"
   ]
  },
  {
   "cell_type": "code",
   "execution_count": 28,
   "id": "8d7599f3-0902-48fd-b07a-d7fa67ef9888",
   "metadata": {},
   "outputs": [],
   "source": [
    "def funcToPandas(serie,fun):\n",
    "    serie_final = pd.Series(dtype=object)\n",
    "    for tensor in serie:\n",
    "        serie_final = serie_final.concat(pd.Series(fun(tensor)))\n",
    "\n",
    "    return serie_final"
   ]
  },
  {
   "cell_type": "code",
   "execution_count": 32,
   "id": "5078b3ad-050a-449b-80ad-6069c5721248",
   "metadata": {},
   "outputs": [],
   "source": [
    "\n",
    "def BERTProcessing(datadir,tokenizer,model):\n",
    "    aux = os.path.join(datadir, \"train.jsonl\")\n",
    "    data = pd.DataFrame(getDataJSON(aux)).set_index(\"id\")\n",
    "    data[['text1','text2']] = pd.DataFrame(data.pair.tolist(), index= data.index)\n",
    "\n",
    "    aux = os.path.join(datadir, \"train_truth.jsonl\")\n",
    "\n",
    "    del data[\"pair\"]\n",
    "    data2 = pd.DataFrame(getDataJSON(aux)).set_index(\"id\")\n",
    "    data = pd.merge(data,data2,how='outer',left_index=True,right_index=True)\n",
    "    del data2\n",
    "\n",
    "    n=50\n",
    "    \n",
    "    X_0 = data[\"text1\"]\n",
    "    X_0 = X_0.apply(tokenizer.encode, return_tensors=\"pt\")\n",
    "    X_0 = X_0.apply(downsize)\n",
    "    X_0 = shortPandas(X_0,n)\n",
    "    X_0 = X_0.apply(model)\n",
    "    X_0 = X_0.apply(getPooler_vector)\n",
    "    \n",
    "    X_1 = data[\"text2\"]\n",
    "    X_1 = X_1.apply(tokenizer.encode, return_tensors=\"pt\")\n",
    "    X_1 = X_1.apply(downsize)\n",
    "    X_1 = shortPandas(X_1,n)\n",
    "    X_1 = X_1.apply(model)\n",
    "    X_1 = X_1.apply(getPooler_vector)\n",
    "    \n",
    "    X = X_0 - X_1\n",
    "    X = X.apply(np.absolute)\n",
    "    Y = data[\"value\"]\n",
    "    print(\"$$$$$$-DONE-$$$$$$\")\n",
    "    return X,Y\n"
   ]
  },
  {
   "cell_type": "code",
   "execution_count": 33,
   "id": "9706872b-7cae-43a9-8e9f-c166bb0d4ea5",
   "metadata": {},
   "outputs": [
    {
     "name": "stdout",
     "output_type": "stream",
     "text": [
      "$$$$$$-DONE-$$$$$$\n"
     ]
    }
   ],
   "source": [
    "data=BERTProcessing(\"../corpus/Pan23/dataset1/train/prepared/\",tokenizer,model)"
   ]
  },
  {
   "cell_type": "code",
   "execution_count": 34,
   "id": "1f4f9fd5-b7e9-4538-ad5b-401efa95db62",
   "metadata": {},
   "outputs": [
    {
     "data": {
      "text/plain": [
       "id\n",
       "1-1-2       [0.056911767, 0.2450751, 0.049925447, 0.193844...\n",
       "1-2-3       [0.114949465, 0.15786031, 0.08404046, 0.143449...\n",
       "10-1-2      [0.0011026859, 0.09628391, 0.084511876, 0.1448...\n",
       "10-2-3      [0.009160161, 0.14211923, 0.14014834, 0.260645...\n",
       "10-3-4      [0.13378942, 0.07969952, 0.0016605854, 0.10876...\n",
       "10-4-5      [0.030430198, 0.15404785, 0.02344501, 0.046777...\n",
       "100-1-2     [0.0045509934, 0.0031840205, 0.09182894, 0.064...\n",
       "100-2-3     [0.119838, 0.049634784, 0.04378724, 0.34092227...\n",
       "100-3-4     [0.18972236, 0.11770648, 0.13893372, 0.1608553...\n",
       "1000-1-2    [0.5926975, 0.079352796, 0.024208903, 0.363131...\n",
       "1001-1-2    [0.46111664, 0.12208292, 0.6489401, 0.42565858...\n",
       "1001-2-3    [0.18607008, 0.047218114, 0.7347167, 0.1899082...\n",
       "1001-3-4    [0.034499407, 0.21977374, 0.03134674, 0.251057...\n",
       "1002-1-2    [0.22296602, 0.00870496, 0.07210374, 0.0125848...\n",
       "1002-2-3    [0.21242502, 0.0060340166, 0.035210192, 0.1854...\n",
       "1003-1-2    [0.23022485, 0.045896977, 0.28070503, 0.019483...\n",
       "1003-2-3    [0.15407944, 0.0005239248, 0.012729287, 0.0690...\n",
       "1003-3-4    [0.11531401, 0.12016782, 0.00036799908, 0.0411...\n",
       "1003-4-5    [0.17238763, 0.048952103, 0.011321902, 0.37589...\n",
       "1004-1-2    [0.0635277, 0.14201409, 0.0037782788, 0.067621...\n",
       "1004-2-3    [0.025619745, 0.24653733, 0.13323557, 0.266313...\n",
       "1004-3-4    [0.10417044, 0.06703901, 0.11850351, 0.3490055...\n",
       "1004-4-5    [0.081710935, 0.021117091, 0.009058416, 0.1627...\n",
       "1005-1-2    [0.054287016, 0.014550865, 0.15800732, 0.13169...\n",
       "1005-2-3    [0.21991158, 0.06561747, 0.11149073, 0.1530267...\n",
       "1005-3-4    [0.05089444, 0.09805754, 0.05216676, 0.1082747...\n",
       "1006-1-2    [0.32312667, 0.09748459, 0.0042890906, 0.32376...\n",
       "1006-2-3    [0.007135093, 0.13388032, 0.038463473, 0.12234...\n",
       "1006-3-4    [0.12502962, 0.114002585, 0.038477242, 0.04656...\n",
       "1007-1-2    [0.2860128, 0.123885676, 0.13474703, 0.1077304...\n",
       "1007-2-3    [0.45082965, 0.036710054, 0.03959614, 0.126721...\n",
       "1007-3-4    [0.14459437, 0.17283726, 0.0040126443, 0.08377...\n",
       "1007-4-5    [0.06740737, 0.21005884, 0.08697331, 0.0088945...\n",
       "1008-1-2    [0.20556301, 0.038074076, 0.0867123, 0.3027824...\n",
       "1008-2-3    [0.13200027, 0.013230562, 0.07932383, 0.165661...\n",
       "1008-3-4    [0.21317428, 0.02160725, 0.12822771, 0.0626567...\n",
       "1009-1-2    [0.025950253, 0.033142358, 0.0038516521, 0.025...\n",
       "1009-2-3    [0.15056252, 0.17436561, 0.014161885, 0.210945...\n",
       "1009-3-4    [0.20822948, 0.16966924, 0.047427595, 0.153652...\n",
       "101-1-2     [0.24432194, 0.0009828508, 0.004828453, 0.2720...\n",
       "101-2-3     [0.06612724, 0.24700892, 0.013992786, 0.134069...\n",
       "101-3-4     [0.05380571, 0.29444253, 0.14478052, 0.2678054...\n",
       "1010-1-2    [0.430624, 0.01182878, 0.1112563, 0.36712426, ...\n",
       "1011-1-2    [0.132528, 0.008926719, 0.028054118, 0.2170397...\n",
       "1011-2-3    [0.008139014, 0.055377483, 0.107562065, 0.1887...\n",
       "1011-3-4    [0.069123566, 0.04241836, 0.06689572, 0.341349...\n",
       "1011-4-5    [0.46604496, 0.049631536, 0.0763334, 0.2576099...\n",
       "1012-1-2    [0.07530767, 0.15116948, 0.028384805, 0.057685...\n",
       "1012-2-3    [0.10355127, 0.120675325, 0.036897182, 0.04173...\n",
       "1012-3-4    [0.11229408, 0.00827086, 0.029301584, 0.006673...\n",
       "dtype: object"
      ]
     },
     "execution_count": 34,
     "metadata": {},
     "output_type": "execute_result"
    }
   ],
   "source": [
    "data[0]\n",
    "Kelly    Philosophy"
   ]
  },
  {
   "cell_type": "code",
   "execution_count": 11,
   "id": "15613137-9bdc-4cbd-a1f2-e8f7f3c2b86e",
   "metadata": {},
   "outputs": [
    {
     "data": {
      "text/plain": [
       "512"
      ]
     },
     "execution_count": 11,
     "metadata": {},
     "output_type": "execute_result"
    }
   ],
   "source": [
    "data[0].max()"
   ]
  },
  {
   "cell_type": "code",
   "execution_count": 24,
   "id": "2969702c-e9a7-4008-98d2-868f6aafd066",
   "metadata": {},
   "outputs": [],
   "source": [
    "\n",
    "def plot_points_with_labels(vectors_df, labels_df):\n",
    "  # Asegúrate de que las etiquetas y los vectores tengan el mismo índice\n",
    "    labels_df.to_frame()\n",
    "  # Separa los vectores según las etiquetas\n",
    "    vectors_label_0 = vectors_df[labels_df == 0]\n",
    "    vectors_label_1 = vectors_df[labels_df == 1]\n",
    "    \n",
    "  # Crea un gráfico de puntos\n",
    "    plt.figure(figsize=(8, 6))\n",
    "    plt.scatter(vectors_label_1.iloc[:, 0], vectors_label_1.iloc[:, 1], color='red', label='Con cambio')\n",
    "    plt.scatter(vectors_label_0.iloc[:, 0], vectors_label_0.iloc[:, 1], color='blue', label='Sin cambio')\n",
    "    \n",
    "    \n",
    "  # Configura las etiquetas y el título\n",
    "    plt.xlabel('X')\n",
    "    plt.ylabel('Y')\n",
    "    plt.title('Embeddings Isomap')\n",
    "   \n",
    "  # Muestra la leyenda\n",
    "    plt.legend()\n",
    "   \n",
    "  # Muestra el gráfico\n",
    "    plt.show()"
   ]
  },
  {
   "cell_type": "code",
   "execution_count": 25,
   "id": "35671752-9ce4-407d-bd02-b5841fb156a6",
   "metadata": {},
   "outputs": [],
   "source": [
    "def redimencionarPCA(X):\n",
    "    pca = PCA(n_components=2)\n",
    "    X_vectores = X.apply(pd.Series)\n",
    "    pca.fit(X_vectores.T)\n",
    "    X_PCAvec = pd.DataFrame(pca.components_.T,index=X_vectores.index)\n",
    "    return X_PCAvec\n"
   ]
  },
  {
   "cell_type": "code",
   "execution_count": 26,
   "id": "8c5ef060-9fe4-464c-bbc8-d39ca6efee6e",
   "metadata": {},
   "outputs": [],
   "source": [
    "import matplotlib.pyplot as plt"
   ]
  },
  {
   "cell_type": "code",
   "execution_count": 31,
   "id": "f1e7c958-00ab-4143-914f-164da703fc8d",
   "metadata": {},
   "outputs": [
    {
     "name": "stderr",
     "output_type": "stream",
     "text": [
      "/tmp/ipykernel_15630/4209396840.py:5: UserWarning: Boolean Series key will be reindexed to match DataFrame index.\n",
      "  vectors_label_0 = vectors_df[labels_df == 0]\n",
      "/tmp/ipykernel_15630/4209396840.py:6: UserWarning: Boolean Series key will be reindexed to match DataFrame index.\n",
      "  vectors_label_1 = vectors_df[labels_df == 1]\n"
     ]
    },
    {
     "data": {
      "image/png": "[encoded data removed]",
      "text/plain": [
       "<Figure size 800x600 with 1 Axes>"
      ]
     },
     "metadata": {},
     "output_type": "display_data"
    }
   ],
   "source": [
    "X_1=redimencionarPCA(data[0])\n",
    "plot_points_with_labels(X_1,data[1])"
   ]
  },
  {
   "cell_type": "code",
   "execution_count": null,
   "id": "9253b694-ab50-4283-8f4c-6170561b36cf",
   "metadata": {},
   "outputs": [],
   "source": []
  }
 ],
 "metadata": {
  "kernelspec": {
   "display_name": "Python 3 (ipykernel)",
   "language": "python",
   "name": "python3"
  },
  "language_info": {
   "codemirror_mode": {
    "name": "ipython",
    "version": 3
   },
   "file_extension": ".py",
   "mimetype": "text/x-python",
   "name": "python",
   "nbconvert_exporter": "python",
   "pygments_lexer": "ipython3",
   "version": "3.10.12"
  }
 },
 "nbformat": 4,
 "nbformat_minor": 5
}
