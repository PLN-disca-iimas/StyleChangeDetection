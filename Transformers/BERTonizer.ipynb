{
 "cells": [
  {
   "cell_type": "code",
   "execution_count": 1,
   "metadata": {},
   "outputs": [
    {
     "name": "stderr",
     "output_type": "stream",
     "text": [
      "2024-06-03 13:32:58.619193: I external/local_tsl/tsl/cuda/cudart_stub.cc:32] Could not find cuda drivers on your machine, GPU will not be used.\n",
      "2024-06-03 13:32:58.823544: I tensorflow/core/platform/cpu_feature_guard.cc:210] This TensorFlow binary is optimized to use available CPU instructions in performance-critical operations.\n",
      "To enable the following instructions: AVX2 FMA, in other operations, rebuild TensorFlow with the appropriate compiler flags.\n",
      "2024-06-03 13:32:59.532703: W tensorflow/compiler/tf2tensorrt/utils/py_utils.cc:38] TF-TRT Warning: Could not find TensorRT\n"
     ]
    }
   ],
   "source": [
    "import gensim\n",
    "import os\n",
    "import re\n",
    "import numpy as np\n",
    "import json as js\n",
    "import argparse\n",
    "import pandas as pd\n",
    "import sklearn\n",
    "import joblib\n",
    "import torch\n",
    "import matplotlib.pyplot as plt\n",
    "import datasets\n",
    "import tensorflow as tf\n",
    "from tqdm import tqdm\n",
    "from datasets import Dataset, DatasetDict\n",
    "from sklearn.svm import SVC\n",
    "from sklearn.decomposition import PCA\n",
    "from sklearn.manifold import TSNE\n",
    "from sklearn.manifold import Isomap\n",
    "from sklearn.naive_bayes import GaussianNB\n",
    "from gensim.models import KeyedVectors\n",
    "from transformers import BertTokenizer, TFBertModel\n",
    "from transformers import AutoTokenizer\n",
    "\n"
   ]
  },
  {
   "cell_type": "code",
   "execution_count": 2,
   "metadata": {},
   "outputs": [
    {
     "name": "stderr",
     "output_type": "stream",
     "text": [
      "2024-06-03 13:33:05.123106: I external/local_xla/xla/stream_executor/cuda/cuda_executor.cc:998] successful NUMA node read from SysFS had negative value (-1), but there must be at least one NUMA node, so returning NUMA node zero. See more at https://github.com/torvalds/linux/blob/v6.0/Documentation/ABI/testing/sysfs-bus-pci#L344-L355\n",
      "2024-06-03 13:33:05.126917: W tensorflow/core/common_runtime/gpu/gpu_device.cc:2251] Cannot dlopen some GPU libraries. Please make sure the missing libraries mentioned above are installed properly if you would like to use GPU. Follow the guide at https://www.tensorflow.org/install/gpu for how to download and setup the required libraries for your platform.\n",
      "Skipping registering GPU devices...\n",
      "Some weights of the PyTorch model were not used when initializing the TF 2.0 model TFBertModel: ['cls.predictions.bias', 'cls.predictions.transform.dense.weight', 'cls.seq_relationship.weight', 'cls.seq_relationship.bias', 'cls.predictions.transform.LayerNorm.bias', 'cls.predictions.transform.LayerNorm.weight', 'cls.predictions.transform.dense.bias']\n",
      "- This IS expected if you are initializing TFBertModel from a PyTorch model trained on another task or with another architecture (e.g. initializing a TFBertForSequenceClassification model from a BertForPreTraining model).\n",
      "- This IS NOT expected if you are initializing TFBertModel from a PyTorch model that you expect to be exactly identical (e.g. initializing a TFBertForSequenceClassification model from a BertForSequenceClassification model).\n",
      "All the weights of TFBertModel were initialized from the PyTorch model.\n",
      "If your task is similar to the task the model of the checkpoint was trained on, you can already use TFBertModel for predictions without further training.\n"
     ]
    }
   ],
   "source": [
    "tokenizer = BertTokenizer.from_pretrained('bert-base-uncased')\n",
    "model = TFBertModel.from_pretrained(\"bert-base-uncased\")\n",
    "\n"
   ]
  },
  {
   "cell_type": "code",
   "execution_count": 3,
   "metadata": {},
   "outputs": [],
   "source": [
    "def getDataJSON(route):\n",
    "    with open(route,\"r\",encoding=\"utf-8\") as f:\n",
    "        result = [js.loads(jline.replace(\"diff\",\"value\")) for jline in f.read().splitlines()]\n",
    "    return result"
   ]
  },
  {
   "cell_type": "code",
   "execution_count": 4,
   "metadata": {},
   "outputs": [],
   "source": [
    "def specialTokens(text):\n",
    "    text=text.replace(\"\\n\", \"\")\n",
    "    return text"
   ]
  },
  {
   "cell_type": "code",
   "execution_count": 5,
   "metadata": {},
   "outputs": [],
   "source": [
    "def tokenization(example,label):\n",
    "\n",
    "    return tokenizer(example[label],padding=True, truncation=True, max_length=512,return_tensors=\"pt\")"
   ]
  },
  {
   "cell_type": "code",
   "execution_count": 6,
   "metadata": {},
   "outputs": [],
   "source": [
    "def utils_bert_embedding(txt, tokenizer, model):\n",
    "\n",
    "    inputs = tokenizer(txt, return_tensors='tf', padding=True, truncation=True, max_length=512)\n",
    "    outputs = model(inputs)\n",
    "    vectorized_texts = outputs.last_hidden_state[:, 0, :].numpy()\n",
    "    return vectorized_texts\n"
   ]
  },
  {
   "cell_type": "code",
   "execution_count": 7,
   "metadata": {},
   "outputs": [],
   "source": [
    "def row_to_vector(row):\n",
    "    return row.values"
   ]
  },
  {
   "cell_type": "code",
   "execution_count": 8,
   "metadata": {},
   "outputs": [],
   "source": [
    "def dataToCsv(datadir):\n",
    "    aux = os.path.join(datadir, \"train.jsonl\")\n",
    "    data = pd.DataFrame(getDataJSON(aux)).set_index(\"id\")\n",
    "    data[['text1','text2']] = pd.DataFrame(data.pair.tolist(), index= data.index)\n",
    "\n",
    "    aux = os.path.join(datadir, \"train_truth.jsonl\")\n",
    "\n",
    "    del data[\"pair\"]\n",
    "    data2 = pd.DataFrame(getDataJSON(aux)).set_index(\"id\")\n",
    "    data = pd.merge(data,data2,how='outer',left_index=True,right_index=True)\n",
    "    del data2\n",
    "\n",
    "    X_0 = data[\"text1\"]\n",
    "    X_1 = data[\"text2\"]\n",
    "    X = X_0 + \"[SEP]\" + X_1\n",
    "    X = X.apply(specialTokens)\n",
    "\n",
    "    Y = data[\"value\"].to_frame()\n",
    "\n",
    "    X_series = pd.concat([X, Y], axis=1)\n",
    "    X_series.to_csv(datadir + \"prepared.csv\")\n",
    "    return X_series\n",
    "    \n",
    "    \n"
   ]
  },
  {
   "cell_type": "code",
   "execution_count": 33,
   "metadata": {},
   "outputs": [
    {
     "data": {
      "text/html": [
       "<div>\n",
       "<style scoped>\n",
       "    .dataframe tbody tr th:only-of-type {\n",
       "        vertical-align: middle;\n",
       "    }\n",
       "\n",
       "    .dataframe tbody tr th {\n",
       "        vertical-align: top;\n",
       "    }\n",
       "\n",
       "    .dataframe thead th {\n",
       "        text-align: right;\n",
       "    }\n",
       "</style>\n",
       "<table border=\"1\" class=\"dataframe\">\n",
       "  <thead>\n",
       "    <tr style=\"text-align: right;\">\n",
       "      <th></th>\n",
       "      <th>0</th>\n",
       "      <th>value</th>\n",
       "    </tr>\n",
       "    <tr>\n",
       "      <th>id</th>\n",
       "      <th></th>\n",
       "      <th></th>\n",
       "    </tr>\n",
       "  </thead>\n",
       "  <tbody>\n",
       "    <tr>\n",
       "      <th>1-1-2</th>\n",
       "      <td>[CLS] I'm not arguing with you here, I'm simpl...</td>\n",
       "      <td>1</td>\n",
       "    </tr>\n",
       "    <tr>\n",
       "      <th>1-2-3</th>\n",
       "      <td>[CLS] He's at my place half the time and his f...</td>\n",
       "      <td>0</td>\n",
       "    </tr>\n",
       "    <tr>\n",
       "      <th>10-1-2</th>\n",
       "      <td>[CLS] Biden has the power to write an executiv...</td>\n",
       "      <td>1</td>\n",
       "    </tr>\n",
       "    <tr>\n",
       "      <th>10-2-3</th>\n",
       "      <td>[CLS] r/politics is currently accepting new mo...</td>\n",
       "      <td>1</td>\n",
       "    </tr>\n",
       "    <tr>\n",
       "      <th>10-3-4</th>\n",
       "      <td>[CLS] The inflation reduction act increases in...</td>\n",
       "      <td>0</td>\n",
       "    </tr>\n",
       "    <tr>\n",
       "      <th>...</th>\n",
       "      <td>...</td>\n",
       "      <td>...</td>\n",
       "    </tr>\n",
       "    <tr>\n",
       "      <th>997-3-4</th>\n",
       "      <td>[CLS] He’s 89. His term is six years. SIX YEAR...</td>\n",
       "      <td>1</td>\n",
       "    </tr>\n",
       "    <tr>\n",
       "      <th>998-1-2</th>\n",
       "      <td>[CLS] Kanye is being manipulated and taken adv...</td>\n",
       "      <td>1</td>\n",
       "    </tr>\n",
       "    <tr>\n",
       "      <th>998-2-3</th>\n",
       "      <td>[CLS] IDK. Jessie's story was all about him ge...</td>\n",
       "      <td>1</td>\n",
       "    </tr>\n",
       "    <tr>\n",
       "      <th>999-1-2</th>\n",
       "      <td>[CLS] It appears you forgot to include your lo...</td>\n",
       "      <td>1</td>\n",
       "    </tr>\n",
       "    <tr>\n",
       "      <th>999-2-3</th>\n",
       "      <td>[CLS] Now since you brought up a value of $16 ...</td>\n",
       "      <td>1</td>\n",
       "    </tr>\n",
       "  </tbody>\n",
       "</table>\n",
       "<p>12904 rows × 2 columns</p>\n",
       "</div>"
      ],
      "text/plain": [
       "                                                         0  value\n",
       "id                                                               \n",
       "1-1-2    [CLS] I'm not arguing with you here, I'm simpl...      1\n",
       "1-2-3    [CLS] He's at my place half the time and his f...      0\n",
       "10-1-2   [CLS] Biden has the power to write an executiv...      1\n",
       "10-2-3   [CLS] r/politics is currently accepting new mo...      1\n",
       "10-3-4   [CLS] The inflation reduction act increases in...      0\n",
       "...                                                    ...    ...\n",
       "997-3-4  [CLS] He’s 89. His term is six years. SIX YEAR...      1\n",
       "998-1-2  [CLS] Kanye is being manipulated and taken adv...      1\n",
       "998-2-3  [CLS] IDK. Jessie's story was all about him ge...      1\n",
       "999-1-2  [CLS] It appears you forgot to include your lo...      1\n",
       "999-2-3  [CLS] Now since you brought up a value of $16 ...      1\n",
       "\n",
       "[12904 rows x 2 columns]"
      ]
     },
     "execution_count": 33,
     "metadata": {},
     "output_type": "execute_result"
    }
   ],
   "source": [
    "dataToCsv(\"../corpus/dataset1/train/prepared/\")"
   ]
  },
  {
   "cell_type": "code",
   "execution_count": 34,
   "metadata": {},
   "outputs": [
    {
     "data": {
      "text/html": [
       "<div>\n",
       "<style scoped>\n",
       "    .dataframe tbody tr th:only-of-type {\n",
       "        vertical-align: middle;\n",
       "    }\n",
       "\n",
       "    .dataframe tbody tr th {\n",
       "        vertical-align: top;\n",
       "    }\n",
       "\n",
       "    .dataframe thead th {\n",
       "        text-align: right;\n",
       "    }\n",
       "</style>\n",
       "<table border=\"1\" class=\"dataframe\">\n",
       "  <thead>\n",
       "    <tr style=\"text-align: right;\">\n",
       "      <th></th>\n",
       "      <th>0</th>\n",
       "      <th>value</th>\n",
       "    </tr>\n",
       "    <tr>\n",
       "      <th>id</th>\n",
       "      <th></th>\n",
       "      <th></th>\n",
       "    </tr>\n",
       "  </thead>\n",
       "  <tbody>\n",
       "    <tr>\n",
       "      <th>1-1-2</th>\n",
       "      <td>[CLS] I think the premise of your question is ...</td>\n",
       "      <td>1</td>\n",
       "    </tr>\n",
       "    <tr>\n",
       "      <th>10-1-2</th>\n",
       "      <td>[CLS] You bought this in good faith and withou...</td>\n",
       "      <td>1</td>\n",
       "    </tr>\n",
       "    <tr>\n",
       "      <th>10-2-3</th>\n",
       "      <td>[CLS] Yes. That section of the code says what ...</td>\n",
       "      <td>1</td>\n",
       "    </tr>\n",
       "    <tr>\n",
       "      <th>100-1-2</th>\n",
       "      <td>[CLS] She doesnt “savage” anyone, no one is “f...</td>\n",
       "      <td>1</td>\n",
       "    </tr>\n",
       "    <tr>\n",
       "      <th>100-2-3</th>\n",
       "      <td>[CLS] I left Ohio in 1998. Never looked back. ...</td>\n",
       "      <td>1</td>\n",
       "    </tr>\n",
       "    <tr>\n",
       "      <th>...</th>\n",
       "      <td>...</td>\n",
       "      <td>...</td>\n",
       "    </tr>\n",
       "    <tr>\n",
       "      <th>97-4-5</th>\n",
       "      <td>[CLS] r/politics is currently accepting new mo...</td>\n",
       "      <td>1</td>\n",
       "    </tr>\n",
       "    <tr>\n",
       "      <th>98-1-2</th>\n",
       "      <td>[CLS] Trump committed many crimes, LIVE ON TEL...</td>\n",
       "      <td>1</td>\n",
       "    </tr>\n",
       "    <tr>\n",
       "      <th>98-2-3</th>\n",
       "      <td>[CLS] No shit. Not all investigations take the...</td>\n",
       "      <td>1</td>\n",
       "    </tr>\n",
       "    <tr>\n",
       "      <th>98-3-4</th>\n",
       "      <td>[CLS] Interesting question. I think the short ...</td>\n",
       "      <td>1</td>\n",
       "    </tr>\n",
       "    <tr>\n",
       "      <th>99-1-2</th>\n",
       "      <td>[CLS] Finally, during the dissolution, it of c...</td>\n",
       "      <td>1</td>\n",
       "    </tr>\n",
       "  </tbody>\n",
       "</table>\n",
       "<p>2828 rows × 2 columns</p>\n",
       "</div>"
      ],
      "text/plain": [
       "                                                         0  value\n",
       "id                                                               \n",
       "1-1-2    [CLS] I think the premise of your question is ...      1\n",
       "10-1-2   [CLS] You bought this in good faith and withou...      1\n",
       "10-2-3   [CLS] Yes. That section of the code says what ...      1\n",
       "100-1-2  [CLS] She doesnt “savage” anyone, no one is “f...      1\n",
       "100-2-3  [CLS] I left Ohio in 1998. Never looked back. ...      1\n",
       "...                                                    ...    ...\n",
       "97-4-5   [CLS] r/politics is currently accepting new mo...      1\n",
       "98-1-2   [CLS] Trump committed many crimes, LIVE ON TEL...      1\n",
       "98-2-3   [CLS] No shit. Not all investigations take the...      1\n",
       "98-3-4   [CLS] Interesting question. I think the short ...      1\n",
       "99-1-2   [CLS] Finally, during the dissolution, it of c...      1\n",
       "\n",
       "[2828 rows x 2 columns]"
      ]
     },
     "execution_count": 34,
     "metadata": {},
     "output_type": "execute_result"
    }
   ],
   "source": [
    "dataToCsv(\"../corpus/dataset1/validation/prepared/\")"
   ]
  },
  {
   "cell_type": "code",
   "execution_count": 23,
   "metadata": {},
   "outputs": [
    {
     "name": "stderr",
     "output_type": "stream",
     "text": [
      "/tmp/ipykernel_114607/154174995.py:1: FutureWarning: Series.__getitem__ treating keys as positions is deprecated. In a future version, integer keys will always be treated as labels (consistent with DataFrame behavior). To access a value by position, use `ser.iloc[pos]`\n",
      "  data[0][0]\n"
     ]
    },
    {
     "data": {
      "text/plain": [
       "\"[CLS] I'm not arguing with you here, I'm simply trying to contextualize this for you. To the extent that they are there, it is with your consent. The state has passed laws making sure that vulnerable people (not saying he's one) don't get abused (not saying you're abusing him), and in casting a wide net to save as many vulnerable little birds as possible from hitting the floor after being kicked out of their nest wrongfully, the state has (as much from a lack of better options as from any other reason) created a circumstance where occasionally some not-so-vulnerable little bird can take advantage of someone else's nest.[SEP]He's at my place half the time and his fiance(e)'s place the other half of the time. He's been (homeless) couch surfing for several years and only recently got engaged to his other partner. We don't have any current issues that would lead me to want this arrangement to stop, but I do want to protect my own legal rights. [SEP]\""
      ]
     },
     "execution_count": 23,
     "metadata": {},
     "output_type": "execute_result"
    }
   ],
   "source": [
    "data[0][0]"
   ]
  },
  {
   "cell_type": "code",
   "execution_count": 9,
   "metadata": {},
   "outputs": [],
   "source": [
    "\n",
    "def BERTProcessing(datadir,tokenizer,model):\n",
    "    aux = os.path.join(datadir, \"train.jsonl\")\n",
    "    data = pd.DataFrame(getDataJSON(aux)).set_index(\"id\")\n",
    "    data[['text1','text2']] = pd.DataFrame(data.pair.tolist(), index= data.index)\n",
    "\n",
    "    aux = os.path.join(datadir, \"train_truth.jsonl\")\n",
    "\n",
    "    del data[\"pair\"]\n",
    "    data2 = pd.DataFrame(getDataJSON(aux)).set_index(\"id\")\n",
    "    data = pd.merge(data,data2,how='outer',left_index=True,right_index=True)\n",
    "    del data2\n",
    "\n",
    "    \n",
    "    X_0 = data[\"text1\"]\n",
    "    X_0 = X_0.apply(specialTokens)\n",
    "    X_0_frame=X_0.to_frame()\n",
    "    lst_mean_vecs_X_0 = [(utils_bert_embedding(txt,tokenizer, model)[0]) for txt in tqdm(X_0_frame[\"text1\"])]\n",
    "\n",
    "    X_1 = data[\"text2\"]\n",
    "    X_1 = X_1.apply(specialTokens)\n",
    "    X_1_frame=X_1.to_frame()\n",
    "    lst_mean_vecs_X_1 = [(utils_bert_embedding(txt,tokenizer, model)[0]) for txt in tqdm(X_1_frame[\"text2\"])]\n",
    "\n",
    "    list_X_0 = np.array(lst_mean_vecs_X_0)\n",
    "    list_X_1 = np.array(lst_mean_vecs_X_1)\n",
    "\n",
    "    Y = data[\"value\"].to_frame()\n",
    "\n",
    "    X_df0=pd.DataFrame(list_X_0,index=data.index).apply(row_to_vector,axis=1)\n",
    "    X_df1=pd.DataFrame(list_X_1,index=data.index).apply(row_to_vector,axis=1)\n",
    "    \n",
    "    \n",
    " \n",
    "    Y = data[\"value\"]\n",
    "    print(\"$$$$$$-DONE-$$$$$$\")\n",
    "    return X_df0,X_df1,Y\n",
    "\n"
   ]
  },
  {
   "cell_type": "code",
   "execution_count": 10,
   "metadata": {},
   "outputs": [],
   "source": [
    "\n",
    "def BERTProcessingOneText(datadir,tokenizer,model):\n",
    "    aux = os.path.join(datadir, \"train.jsonl\")\n",
    "    data = pd.DataFrame(getDataJSON(aux)).set_index(\"id\")\n",
    "    data[['text1','text2']] = pd.DataFrame(data.pair.tolist(), index= data.index)\n",
    "\n",
    "    aux = os.path.join(datadir, \"train_truth.jsonl\")\n",
    "\n",
    "    del data[\"pair\"]\n",
    "    data2 = pd.DataFrame(getDataJSON(aux)).set_index(\"id\")\n",
    "    data = pd.merge(data,data2,how='outer',left_index=True,right_index=True)\n",
    "    del data2\n",
    "\n",
    "    \n",
    "    X_0 = data[\"text1\"] + \" [SEP] \" + data[\"text2\"]\n",
    "    X_0 = X_0.apply(specialTokens)\n",
    "    X_0_frame=X_0.to_frame()\n",
    "    lst_mean_vecs_X_0 = [(utils_bert_embedding(txt,tokenizer, model)[0]) for txt in tqdm(X_0_frame[0])]\n",
    "\n",
    "    \n",
    "    list_X_0 = np.array(lst_mean_vecs_X_0)\n",
    "\n",
    "    Y = data[\"value\"].to_frame()\n",
    "\n",
    "    X_df0=pd.DataFrame(list_X_0,index=data.index).apply(row_to_vector,axis=1)\n",
    "    \n",
    "    \n",
    " \n",
    "    Y = data[\"value\"]\n",
    "    X = pd.concat([X_df0, Y], axis=1)\n",
    "    print(\"$$$$$$-DONE-$$$$$$\")\n",
    "    return X\n",
    "\n"
   ]
  },
  {
   "cell_type": "code",
   "execution_count": 8,
   "metadata": {},
   "outputs": [],
   "source": [
    "def comparation(X1, X2):\n",
    "    result=X1 - X2\n",
    "    return result"
   ]
  },
  {
   "cell_type": "code",
   "execution_count": 58,
   "metadata": {},
   "outputs": [
    {
     "name": "stderr",
     "output_type": "stream",
     "text": [
      "100%|██████████| 247/247 [00:46<00:00,  5.27it/s]"
     ]
    },
    {
     "name": "stdout",
     "output_type": "stream",
     "text": [
      "$$$$$$-DONE-$$$$$$\n"
     ]
    },
    {
     "name": "stderr",
     "output_type": "stream",
     "text": [
      "\n"
     ]
    },
    {
     "data": {
      "text/html": [
       "<div>\n",
       "<style scoped>\n",
       "    .dataframe tbody tr th:only-of-type {\n",
       "        vertical-align: middle;\n",
       "    }\n",
       "\n",
       "    .dataframe tbody tr th {\n",
       "        vertical-align: top;\n",
       "    }\n",
       "\n",
       "    .dataframe thead th {\n",
       "        text-align: right;\n",
       "    }\n",
       "</style>\n",
       "<table border=\"1\" class=\"dataframe\">\n",
       "  <thead>\n",
       "    <tr style=\"text-align: right;\">\n",
       "      <th></th>\n",
       "      <th>0</th>\n",
       "      <th>value</th>\n",
       "    </tr>\n",
       "    <tr>\n",
       "      <th>id</th>\n",
       "      <th></th>\n",
       "      <th></th>\n",
       "    </tr>\n",
       "  </thead>\n",
       "  <tbody>\n",
       "    <tr>\n",
       "      <th>1-1-2</th>\n",
       "      <td>[0.23213123, -0.01940576, -0.4982503, -0.20774...</td>\n",
       "      <td>1</td>\n",
       "    </tr>\n",
       "    <tr>\n",
       "      <th>1-2-3</th>\n",
       "      <td>[0.12999731, 0.0013807118, -0.21989939, -0.219...</td>\n",
       "      <td>0</td>\n",
       "    </tr>\n",
       "    <tr>\n",
       "      <th>10-1-2</th>\n",
       "      <td>[0.12304676, -0.1575891, -0.1262363, -0.083044...</td>\n",
       "      <td>1</td>\n",
       "    </tr>\n",
       "    <tr>\n",
       "      <th>10-2-3</th>\n",
       "      <td>[0.09427981, -0.17273273, -0.14094776, 0.14100...</td>\n",
       "      <td>1</td>\n",
       "    </tr>\n",
       "    <tr>\n",
       "      <th>10-3-4</th>\n",
       "      <td>[0.008588837, -0.17707774, -0.27153295, -0.055...</td>\n",
       "      <td>0</td>\n",
       "    </tr>\n",
       "    <tr>\n",
       "      <th>...</th>\n",
       "      <td>...</td>\n",
       "      <td>...</td>\n",
       "    </tr>\n",
       "    <tr>\n",
       "      <th>84-4-5</th>\n",
       "      <td>[0.25262803, -0.17730996, 0.4167732, 0.3965798...</td>\n",
       "      <td>1</td>\n",
       "    </tr>\n",
       "    <tr>\n",
       "      <th>84-5-6</th>\n",
       "      <td>[0.3348052, -0.060188506, 0.14304735, -0.12144...</td>\n",
       "      <td>1</td>\n",
       "    </tr>\n",
       "    <tr>\n",
       "      <th>9-1-2</th>\n",
       "      <td>[-0.4034878, -0.035273504, -0.24560848, 0.2755...</td>\n",
       "      <td>1</td>\n",
       "    </tr>\n",
       "    <tr>\n",
       "      <th>9-2-3</th>\n",
       "      <td>[-0.21027654, 0.12507623, -0.034728363, 0.0804...</td>\n",
       "      <td>1</td>\n",
       "    </tr>\n",
       "    <tr>\n",
       "      <th>9-3-4</th>\n",
       "      <td>[-0.15173282, 0.044694774, 0.09252523, -0.0982...</td>\n",
       "      <td>1</td>\n",
       "    </tr>\n",
       "  </tbody>\n",
       "</table>\n",
       "<p>247 rows × 2 columns</p>\n",
       "</div>"
      ],
      "text/plain": [
       "                                                        0  value\n",
       "id                                                              \n",
       "1-1-2   [0.23213123, -0.01940576, -0.4982503, -0.20774...      1\n",
       "1-2-3   [0.12999731, 0.0013807118, -0.21989939, -0.219...      0\n",
       "10-1-2  [0.12304676, -0.1575891, -0.1262363, -0.083044...      1\n",
       "10-2-3  [0.09427981, -0.17273273, -0.14094776, 0.14100...      1\n",
       "10-3-4  [0.008588837, -0.17707774, -0.27153295, -0.055...      0\n",
       "...                                                   ...    ...\n",
       "84-4-5  [0.25262803, -0.17730996, 0.4167732, 0.3965798...      1\n",
       "84-5-6  [0.3348052, -0.060188506, 0.14304735, -0.12144...      1\n",
       "9-1-2   [-0.4034878, -0.035273504, -0.24560848, 0.2755...      1\n",
       "9-2-3   [-0.21027654, 0.12507623, -0.034728363, 0.0804...      1\n",
       "9-3-4   [-0.15173282, 0.044694774, 0.09252523, -0.0982...      1\n",
       "\n",
       "[247 rows x 2 columns]"
      ]
     },
     "execution_count": 58,
     "metadata": {},
     "output_type": "execute_result"
    }
   ],
   "source": [
    "data=BERTProcessingOneText(\"../corpus/dummyset/train/prepared/\",tokenizer,model)\n",
    "data"
   ]
  },
  {
   "cell_type": "code",
   "execution_count": 54,
   "metadata": {},
   "outputs": [
    {
     "name": "stderr",
     "output_type": "stream",
     "text": [
      "/tmp/ipykernel_114607/154174995.py:1: FutureWarning: Series.__getitem__ treating keys as positions is deprecated. In a future version, integer keys will always be treated as labels (consistent with DataFrame behavior). To access a value by position, use `ser.iloc[pos]`\n",
      "  data[0][0]\n"
     ]
    },
    {
     "data": {
      "text/plain": [
       "\"[CLS] I'm not arguing with you here, I'm simply trying to contextualize this for you. To the extent that they are there, it is with your consent. The state has passed laws making sure that vulnerable people (not saying he's one) don't get abused (not saying you're abusing him), and in casting a wide net to save as many vulnerable little birds as possible from hitting the floor after being kicked out of their nest wrongfully, the state has (as much from a lack of better options as from any other reason) created a circumstance where occasionally some not-so-vulnerable little bird can take advantage of someone else's nest. [SEP] He's at my place half the time and his fiance(e)'s place the other half of the time. He's been (homeless) couch surfing for several years and only recently got engaged to his other partner. We don't have any current issues that would lead me to want this arrangement to stop, but I do want to protect my own legal rights. [SEP]\""
      ]
     },
     "execution_count": 54,
     "metadata": {},
     "output_type": "execute_result"
    }
   ],
   "source": [
    "data[0][0]"
   ]
  },
  {
   "cell_type": "code",
   "execution_count": 47,
   "metadata": {},
   "outputs": [
    {
     "data": {
      "text/plain": [
       "id\n",
       "1-1-2     [0.20820494, 0.008118348, -0.29047334, -0.2789...\n",
       "1-2-3     [0.15894093, 0.21661529, -0.055385336, -0.2901...\n",
       "10-1-2    [0.20150635, -0.21612741, -0.075830966, -0.070...\n",
       "10-2-3    [-0.12223665, -0.13796741, -0.374795, 0.399254...\n",
       "10-3-4    [0.20417106, -0.18636155, -0.20691139, -0.2441...\n",
       "                                ...                        \n",
       "84-4-5    [0.1602426, -0.2545905, 0.1615929, 0.11387552,...\n",
       "84-5-6    [0.28968045, 0.041305467, -0.14422685, -0.1524...\n",
       "9-1-2     [-0.17890301, 0.06874495, -0.26106945, 0.27061...\n",
       "9-2-3     [-0.09804095, 0.6613869, 0.012525171, -0.14130...\n",
       "9-3-4     [-0.045102734, -0.081216305, 0.07017073, -0.14...\n",
       "Length: 247, dtype: object"
      ]
     },
     "execution_count": 47,
     "metadata": {},
     "output_type": "execute_result"
    }
   ],
   "source": [
    "data[1]"
   ]
  },
  {
   "cell_type": "code",
   "execution_count": 59,
   "metadata": {},
   "outputs": [
    {
     "name": "stderr",
     "output_type": "stream",
     "text": [
      "100%|██████████| 12904/12904 [42:23<00:00,  5.07it/s]\n"
     ]
    },
    {
     "name": "stdout",
     "output_type": "stream",
     "text": [
      "$$$$$$-DONE-$$$$$$\n"
     ]
    },
    {
     "name": "stderr",
     "output_type": "stream",
     "text": [
      "  1%|▏         | 192/12904 [1:20:30<88:49:48, 25.16s/it]\n",
      "100%|██████████| 28216/28216 [1:28:43<00:00,  5.30it/s]\n"
     ]
    },
    {
     "name": "stdout",
     "output_type": "stream",
     "text": [
      "$$$$$$-DONE-$$$$$$\n"
     ]
    },
    {
     "name": "stderr",
     "output_type": "stream",
     "text": [
      "100%|██████████| 19113/19113 [57:49<00:00,  5.51it/s] \n"
     ]
    },
    {
     "name": "stdout",
     "output_type": "stream",
     "text": [
      "$$$$$$-DONE-$$$$$$\n"
     ]
    }
   ],
   "source": [
    "data=BERTProcessingOneText(\"../corpus/dataset1/train/prepared/\",tokenizer,model)\n",
    "data\n",
    "def save_series_to_jsonl(series, filename):\n",
    "    series.to_json(filename, orient='records', lines=True)\n",
    "\n",
    "def load_series_from_jsonl(filename):\n",
    "    return pd.read_json(filename, lines=True)\n",
    "\n",
    "\n",
    "save_series_to_jsonl(data, '../corpus/dataset1/train/processed/dataset1_OneText.jsonl')\n",
    "\n",
    "###########################\n",
    "\n",
    "data=BERTProcessingOneText(\"../corpus/dataset2/train/prepared/\",tokenizer,model)\n",
    "data\n",
    "\n",
    "\n",
    "save_series_to_jsonl(data, '../corpus/dataset1/train/processed/dataset2_OneText.jsonl')\n",
    "###########################\n",
    "\n",
    "data=BERTProcessingOneText(\"../corpus/dataset3/train/prepared/\",tokenizer,model)\n",
    "data\n",
    "\n",
    "save_series_to_jsonl(data, '../corpus/dataset1/train/processed/dataset3_OneText.jsonl')\n",
    "\n"
   ]
  },
  {
   "cell_type": "code",
   "execution_count": 11,
   "metadata": {},
   "outputs": [],
   "source": [
    "def load_series_from_jsonl(filename):\n",
    "    return pd.read_json(filename, lines=True)"
   ]
  },
  {
   "cell_type": "code",
   "execution_count": 12,
   "metadata": {},
   "outputs": [
    {
     "name": "stderr",
     "output_type": "stream",
     "text": [
      "/tmp/ipykernel_336767/3734992399.py:2: FutureWarning: The behavior of 'to_datetime' with 'unit' when parsing strings is deprecated. In a future version, strings will be parsed as datetime strings, matching the behavior without a 'unit'. To retain the old behavior, explicitly cast ints or floats to numeric type before calling to_datetime.\n",
      "  return pd.read_json(filename, lines=True)\n",
      "/tmp/ipykernel_336767/3734992399.py:2: FutureWarning: The behavior of 'to_datetime' with 'unit' when parsing strings is deprecated. In a future version, strings will be parsed as datetime strings, matching the behavior without a 'unit'. To retain the old behavior, explicitly cast ints or floats to numeric type before calling to_datetime.\n",
      "  return pd.read_json(filename, lines=True)\n",
      "/tmp/ipykernel_336767/3734992399.py:2: FutureWarning: The behavior of 'to_datetime' with 'unit' when parsing strings is deprecated. In a future version, strings will be parsed as datetime strings, matching the behavior without a 'unit'. To retain the old behavior, explicitly cast ints or floats to numeric type before calling to_datetime.\n",
      "  return pd.read_json(filename, lines=True)\n"
     ]
    },
    {
     "data": {
      "text/html": [
       "<div>\n",
       "<style scoped>\n",
       "    .dataframe tbody tr th:only-of-type {\n",
       "        vertical-align: middle;\n",
       "    }\n",
       "\n",
       "    .dataframe tbody tr th {\n",
       "        vertical-align: top;\n",
       "    }\n",
       "\n",
       "    .dataframe thead th {\n",
       "        text-align: right;\n",
       "    }\n",
       "</style>\n",
       "<table border=\"1\" class=\"dataframe\">\n",
       "  <thead>\n",
       "    <tr style=\"text-align: right;\">\n",
       "      <th></th>\n",
       "      <th>0</th>\n",
       "      <th>value</th>\n",
       "    </tr>\n",
       "  </thead>\n",
       "  <tbody>\n",
       "    <tr>\n",
       "      <th>0</th>\n",
       "      <td>[0.23213122790000001, -0.0194057599, -0.498250...</td>\n",
       "      <td>1</td>\n",
       "    </tr>\n",
       "    <tr>\n",
       "      <th>1</th>\n",
       "      <td>[0.129997313, 0.0013807118, -0.219899386200000...</td>\n",
       "      <td>0</td>\n",
       "    </tr>\n",
       "    <tr>\n",
       "      <th>2</th>\n",
       "      <td>[0.1230467632, -0.1575890929, -0.1262363046000...</td>\n",
       "      <td>1</td>\n",
       "    </tr>\n",
       "    <tr>\n",
       "      <th>3</th>\n",
       "      <td>[0.0942798108, -0.1727327257, -0.1409477592, 0...</td>\n",
       "      <td>1</td>\n",
       "    </tr>\n",
       "    <tr>\n",
       "      <th>4</th>\n",
       "      <td>[0.0085888375, -0.17707774040000002, -0.271532...</td>\n",
       "      <td>0</td>\n",
       "    </tr>\n",
       "    <tr>\n",
       "      <th>...</th>\n",
       "      <td>...</td>\n",
       "      <td>...</td>\n",
       "    </tr>\n",
       "    <tr>\n",
       "      <th>12899</th>\n",
       "      <td>[0.3295432627, 0.5966648459, 0.2758518457, -0....</td>\n",
       "      <td>1</td>\n",
       "    </tr>\n",
       "    <tr>\n",
       "      <th>12900</th>\n",
       "      <td>[-0.15737254920000002, -0.3189372122, 0.062515...</td>\n",
       "      <td>1</td>\n",
       "    </tr>\n",
       "    <tr>\n",
       "      <th>12901</th>\n",
       "      <td>[0.0998439789, -0.2037054151, 0.0090216771, -0...</td>\n",
       "      <td>1</td>\n",
       "    </tr>\n",
       "    <tr>\n",
       "      <th>12902</th>\n",
       "      <td>[-0.0644751266, -0.0862417966, 0.3705866039000...</td>\n",
       "      <td>1</td>\n",
       "    </tr>\n",
       "    <tr>\n",
       "      <th>12903</th>\n",
       "      <td>[-0.1836033314, -0.0194303021, 0.2315136194, -...</td>\n",
       "      <td>1</td>\n",
       "    </tr>\n",
       "  </tbody>\n",
       "</table>\n",
       "<p>12904 rows × 2 columns</p>\n",
       "</div>"
      ],
      "text/plain": [
       "                                                       0  value\n",
       "0      [0.23213122790000001, -0.0194057599, -0.498250...      1\n",
       "1      [0.129997313, 0.0013807118, -0.219899386200000...      0\n",
       "2      [0.1230467632, -0.1575890929, -0.1262363046000...      1\n",
       "3      [0.0942798108, -0.1727327257, -0.1409477592, 0...      1\n",
       "4      [0.0085888375, -0.17707774040000002, -0.271532...      0\n",
       "...                                                  ...    ...\n",
       "12899  [0.3295432627, 0.5966648459, 0.2758518457, -0....      1\n",
       "12900  [-0.15737254920000002, -0.3189372122, 0.062515...      1\n",
       "12901  [0.0998439789, -0.2037054151, 0.0090216771, -0...      1\n",
       "12902  [-0.0644751266, -0.0862417966, 0.3705866039000...      1\n",
       "12903  [-0.1836033314, -0.0194303021, 0.2315136194, -...      1\n",
       "\n",
       "[12904 rows x 2 columns]"
      ]
     },
     "execution_count": 12,
     "metadata": {},
     "output_type": "execute_result"
    }
   ],
   "source": [
    "# Cargar la serie desde el archivo .jsonl\n",
    "X = load_series_from_jsonl('../corpus/dataset1/train/processed/dataset1_OneText.jsonl')\n",
    "X"
   ]
  },
  {
   "cell_type": "code",
   "execution_count": 17,
   "metadata": {},
   "outputs": [
    {
     "data": {
      "text/plain": [
       "0        1\n",
       "1        0\n",
       "2        1\n",
       "3        1\n",
       "4        0\n",
       "        ..\n",
       "12899    1\n",
       "12900    1\n",
       "12901    1\n",
       "12902    1\n",
       "12903    1\n",
       "Name: value, Length: 12904, dtype: int64"
      ]
     },
     "execution_count": 17,
     "metadata": {},
     "output_type": "execute_result"
    }
   ],
   "source": [
    "X[\"value\"]"
   ]
  },
  {
   "cell_type": "code",
   "execution_count": 12,
   "metadata": {},
   "outputs": [],
   "source": [
    "def cosine_sim(X1,X2):\n",
    "    cos=np.dot(X1, X2) / (np.linalg.norm(X1) * np.linalg.norm(X2))\n",
    "    return cos"
   ]
  },
  {
   "cell_type": "code",
   "execution_count": 30,
   "metadata": {},
   "outputs": [],
   "source": [
    "Cosine = pd.Series(X.apply(lambda x: cosine_sim(x[0], x[1]), axis=1))"
   ]
  },
  {
   "cell_type": "code",
   "execution_count": 31,
   "metadata": {},
   "outputs": [
    {
     "data": {
      "text/plain": [
       "pandas.core.series.Series"
      ]
     },
     "execution_count": 31,
     "metadata": {},
     "output_type": "execute_result"
    }
   ],
   "source": [
    "type(Cosine)"
   ]
  },
  {
   "cell_type": "code",
   "execution_count": 28,
   "metadata": {},
   "outputs": [
    {
     "data": {
      "text/plain": [
       "pandas.core.series.Series"
      ]
     },
     "execution_count": 28,
     "metadata": {},
     "output_type": "execute_result"
    }
   ],
   "source": [
    "type(data[2])"
   ]
  },
  {
   "cell_type": "markdown",
   "metadata": {},
   "source": []
  },
  {
   "cell_type": "code",
   "execution_count": 14,
   "metadata": {},
   "outputs": [],
   "source": [
    "\n",
    "def plot_points_with_labels(vectors_df, labels_df,titulo):\n",
    "  # Asegúrate de que las etiquetas y los vectores tengan el mismo índice\n",
    "  # Separa los vectores según las etiquetas\n",
    "    vectors_label_0 = vectors_df[labels_df == 0]\n",
    "    vectors_label_1 = vectors_df[labels_df == 1]\n",
    "    \n",
    "  # Crea un gráfico de puntos\n",
    "    plt.figure(figsize=(8, 6))\n",
    "    plt.scatter(vectors_label_1.iloc[:, 0], vectors_label_1.iloc[:, 1], color='red', label='Con cambio')\n",
    "    plt.scatter(vectors_label_0.iloc[:, 0], vectors_label_0.iloc[:, 1], color='blue', label='Sin cambio')\n",
    "    \n",
    "    \n",
    "  # Configura las etiquetas y el título\n",
    "    plt.xlabel('X')\n",
    "    plt.ylabel('Y')\n",
    "    plt.title(titulo)\n",
    "   \n",
    "  # Muestra la leyenda\n",
    "    plt.legend()\n",
    "   \n",
    "  # Muestra el gráfico\n",
    "    plt.show()"
   ]
  },
  {
   "cell_type": "code",
   "execution_count": 15,
   "metadata": {},
   "outputs": [],
   "source": [
    "def redimensionarPCA(X):\n",
    "    pca = PCA(n_components=2)\n",
    "    X_vectores = X.apply(pd.Series)\n",
    "    pca.fit(X_vectores.T)\n",
    "    X_PCAvec = pd.DataFrame(pca.components_.T,index=X_vectores.index)\n",
    "    return X_PCAvec\n"
   ]
  },
  {
   "cell_type": "code",
   "execution_count": 23,
   "metadata": {},
   "outputs": [
    {
     "ename": "IndexError",
     "evalue": "single positional indexer is out-of-bounds",
     "output_type": "error",
     "traceback": [
      "\u001b[0;31m---------------------------------------------------------------------------\u001b[0m",
      "\u001b[0;31mIndexError\u001b[0m                                Traceback (most recent call last)",
      "\u001b[1;32m/home/gianni/Documentos/DamianW2V/Transformers/BERTonizer.ipynb Celda 18\u001b[0m line \u001b[0;36m1\n\u001b[0;32m----> <a href='vscode-notebook-cell:/home/gianni/Documentos/DamianW2V/Transformers/BERTonizer.ipynb#X53sZmlsZQ%3D%3D?line=0'>1</a>\u001b[0m plot_points_with_labels(Cosine,data[\u001b[39m2\u001b[39;49m],\u001b[39m\"\u001b[39;49m\u001b[39mCosine Sim\u001b[39;49m\u001b[39m\"\u001b[39;49m)\n",
      "\u001b[1;32m/home/gianni/Documentos/DamianW2V/Transformers/BERTonizer.ipynb Celda 18\u001b[0m line \u001b[0;36m9\n\u001b[1;32m      <a href='vscode-notebook-cell:/home/gianni/Documentos/DamianW2V/Transformers/BERTonizer.ipynb#X53sZmlsZQ%3D%3D?line=6'>7</a>\u001b[0m \u001b[39m# Crea un gráfico de puntos\u001b[39;00m\n\u001b[1;32m      <a href='vscode-notebook-cell:/home/gianni/Documentos/DamianW2V/Transformers/BERTonizer.ipynb#X53sZmlsZQ%3D%3D?line=7'>8</a>\u001b[0m   plt\u001b[39m.\u001b[39mfigure(figsize\u001b[39m=\u001b[39m(\u001b[39m8\u001b[39m, \u001b[39m6\u001b[39m))\n\u001b[0;32m----> <a href='vscode-notebook-cell:/home/gianni/Documentos/DamianW2V/Transformers/BERTonizer.ipynb#X53sZmlsZQ%3D%3D?line=8'>9</a>\u001b[0m   plt\u001b[39m.\u001b[39mscatter(vectors_label_1\u001b[39m.\u001b[39miloc[:, \u001b[39m0\u001b[39m], vectors_label_1\u001b[39m.\u001b[39;49miloc[:, \u001b[39m1\u001b[39;49m], color\u001b[39m=\u001b[39m\u001b[39m'\u001b[39m\u001b[39mred\u001b[39m\u001b[39m'\u001b[39m, label\u001b[39m=\u001b[39m\u001b[39m'\u001b[39m\u001b[39mCon cambio\u001b[39m\u001b[39m'\u001b[39m)\n\u001b[1;32m     <a href='vscode-notebook-cell:/home/gianni/Documentos/DamianW2V/Transformers/BERTonizer.ipynb#X53sZmlsZQ%3D%3D?line=9'>10</a>\u001b[0m   plt\u001b[39m.\u001b[39mscatter(vectors_label_0\u001b[39m.\u001b[39miloc[:, \u001b[39m0\u001b[39m], vectors_label_0\u001b[39m.\u001b[39miloc[:, \u001b[39m1\u001b[39m], color\u001b[39m=\u001b[39m\u001b[39m'\u001b[39m\u001b[39mblue\u001b[39m\u001b[39m'\u001b[39m, label\u001b[39m=\u001b[39m\u001b[39m'\u001b[39m\u001b[39mSin cambio\u001b[39m\u001b[39m'\u001b[39m)\n\u001b[1;32m     <a href='vscode-notebook-cell:/home/gianni/Documentos/DamianW2V/Transformers/BERTonizer.ipynb#X53sZmlsZQ%3D%3D?line=12'>13</a>\u001b[0m \u001b[39m# Configura las etiquetas y el título\u001b[39;00m\n",
      "File \u001b[0;32m~/Documentos/DamianW2V/Transformers/env1/lib/python3.10/site-packages/pandas/core/indexing.py:1184\u001b[0m, in \u001b[0;36m_LocationIndexer.__getitem__\u001b[0;34m(self, key)\u001b[0m\n\u001b[1;32m   1182\u001b[0m     \u001b[39mif\u001b[39;00m \u001b[39mself\u001b[39m\u001b[39m.\u001b[39m_is_scalar_access(key):\n\u001b[1;32m   1183\u001b[0m         \u001b[39mreturn\u001b[39;00m \u001b[39mself\u001b[39m\u001b[39m.\u001b[39mobj\u001b[39m.\u001b[39m_get_value(\u001b[39m*\u001b[39mkey, takeable\u001b[39m=\u001b[39m\u001b[39mself\u001b[39m\u001b[39m.\u001b[39m_takeable)\n\u001b[0;32m-> 1184\u001b[0m     \u001b[39mreturn\u001b[39;00m \u001b[39mself\u001b[39;49m\u001b[39m.\u001b[39;49m_getitem_tuple(key)\n\u001b[1;32m   1185\u001b[0m \u001b[39melse\u001b[39;00m:\n\u001b[1;32m   1186\u001b[0m     \u001b[39m# we by definition only have the 0th axis\u001b[39;00m\n\u001b[1;32m   1187\u001b[0m     axis \u001b[39m=\u001b[39m \u001b[39mself\u001b[39m\u001b[39m.\u001b[39maxis \u001b[39mor\u001b[39;00m \u001b[39m0\u001b[39m\n",
      "File \u001b[0;32m~/Documentos/DamianW2V/Transformers/env1/lib/python3.10/site-packages/pandas/core/indexing.py:1690\u001b[0m, in \u001b[0;36m_iLocIndexer._getitem_tuple\u001b[0;34m(self, tup)\u001b[0m\n\u001b[1;32m   1689\u001b[0m \u001b[39mdef\u001b[39;00m \u001b[39m_getitem_tuple\u001b[39m(\u001b[39mself\u001b[39m, tup: \u001b[39mtuple\u001b[39m):\n\u001b[0;32m-> 1690\u001b[0m     tup \u001b[39m=\u001b[39m \u001b[39mself\u001b[39;49m\u001b[39m.\u001b[39;49m_validate_tuple_indexer(tup)\n\u001b[1;32m   1691\u001b[0m     \u001b[39mwith\u001b[39;00m suppress(IndexingError):\n\u001b[1;32m   1692\u001b[0m         \u001b[39mreturn\u001b[39;00m \u001b[39mself\u001b[39m\u001b[39m.\u001b[39m_getitem_lowerdim(tup)\n",
      "File \u001b[0;32m~/Documentos/DamianW2V/Transformers/env1/lib/python3.10/site-packages/pandas/core/indexing.py:966\u001b[0m, in \u001b[0;36m_LocationIndexer._validate_tuple_indexer\u001b[0;34m(self, key)\u001b[0m\n\u001b[1;32m    964\u001b[0m \u001b[39mfor\u001b[39;00m i, k \u001b[39min\u001b[39;00m \u001b[39menumerate\u001b[39m(key):\n\u001b[1;32m    965\u001b[0m     \u001b[39mtry\u001b[39;00m:\n\u001b[0;32m--> 966\u001b[0m         \u001b[39mself\u001b[39;49m\u001b[39m.\u001b[39;49m_validate_key(k, i)\n\u001b[1;32m    967\u001b[0m     \u001b[39mexcept\u001b[39;00m \u001b[39mValueError\u001b[39;00m \u001b[39mas\u001b[39;00m err:\n\u001b[1;32m    968\u001b[0m         \u001b[39mraise\u001b[39;00m \u001b[39mValueError\u001b[39;00m(\n\u001b[1;32m    969\u001b[0m             \u001b[39m\"\u001b[39m\u001b[39mLocation based indexing can only have \u001b[39m\u001b[39m\"\u001b[39m\n\u001b[1;32m    970\u001b[0m             \u001b[39mf\u001b[39m\u001b[39m\"\u001b[39m\u001b[39m[\u001b[39m\u001b[39m{\u001b[39;00m\u001b[39mself\u001b[39m\u001b[39m.\u001b[39m_valid_types\u001b[39m}\u001b[39;00m\u001b[39m] types\u001b[39m\u001b[39m\"\u001b[39m\n\u001b[1;32m    971\u001b[0m         ) \u001b[39mfrom\u001b[39;00m \u001b[39merr\u001b[39;00m\n",
      "File \u001b[0;32m~/Documentos/DamianW2V/Transformers/env1/lib/python3.10/site-packages/pandas/core/indexing.py:1592\u001b[0m, in \u001b[0;36m_iLocIndexer._validate_key\u001b[0;34m(self, key, axis)\u001b[0m\n\u001b[1;32m   1590\u001b[0m     \u001b[39mreturn\u001b[39;00m\n\u001b[1;32m   1591\u001b[0m \u001b[39melif\u001b[39;00m is_integer(key):\n\u001b[0;32m-> 1592\u001b[0m     \u001b[39mself\u001b[39;49m\u001b[39m.\u001b[39;49m_validate_integer(key, axis)\n\u001b[1;32m   1593\u001b[0m \u001b[39melif\u001b[39;00m \u001b[39misinstance\u001b[39m(key, \u001b[39mtuple\u001b[39m):\n\u001b[1;32m   1594\u001b[0m     \u001b[39m# a tuple should already have been caught by this point\u001b[39;00m\n\u001b[1;32m   1595\u001b[0m     \u001b[39m# so don't treat a tuple as a valid indexer\u001b[39;00m\n\u001b[1;32m   1596\u001b[0m     \u001b[39mraise\u001b[39;00m IndexingError(\u001b[39m\"\u001b[39m\u001b[39mToo many indexers\u001b[39m\u001b[39m\"\u001b[39m)\n",
      "File \u001b[0;32m~/Documentos/DamianW2V/Transformers/env1/lib/python3.10/site-packages/pandas/core/indexing.py:1685\u001b[0m, in \u001b[0;36m_iLocIndexer._validate_integer\u001b[0;34m(self, key, axis)\u001b[0m\n\u001b[1;32m   1683\u001b[0m len_axis \u001b[39m=\u001b[39m \u001b[39mlen\u001b[39m(\u001b[39mself\u001b[39m\u001b[39m.\u001b[39mobj\u001b[39m.\u001b[39m_get_axis(axis))\n\u001b[1;32m   1684\u001b[0m \u001b[39mif\u001b[39;00m key \u001b[39m>\u001b[39m\u001b[39m=\u001b[39m len_axis \u001b[39mor\u001b[39;00m key \u001b[39m<\u001b[39m \u001b[39m-\u001b[39mlen_axis:\n\u001b[0;32m-> 1685\u001b[0m     \u001b[39mraise\u001b[39;00m \u001b[39mIndexError\u001b[39;00m(\u001b[39m\"\u001b[39m\u001b[39msingle positional indexer is out-of-bounds\u001b[39m\u001b[39m\"\u001b[39m)\n",
      "\u001b[0;31mIndexError\u001b[0m: single positional indexer is out-of-bounds"
     ]
    },
    {
     "data": {
      "text/plain": [
       "<Figure size 800x600 with 0 Axes>"
      ]
     },
     "metadata": {},
     "output_type": "display_data"
    }
   ],
   "source": [
    "plot_points_with_labels(Cosine,data[2],\"Cosine Sim\")"
   ]
  },
  {
   "cell_type": "code",
   "execution_count": 22,
   "metadata": {},
   "outputs": [
    {
     "name": "stderr",
     "output_type": "stream",
     "text": [
      "/home/gianni/Documentos/DamianW2V/Transformers/env1/lib/python3.10/site-packages/sklearn/manifold/_isomap.py:383: UserWarning: The number of connected components of the neighbors graph is 2 > 1. Completing the graph to fit Isomap might be slow. Increase the number of neighbors to avoid this issue.\n",
      "  self._fit_transform(X)\n",
      "/home/gianni/Documentos/DamianW2V/Transformers/env1/lib/python3.10/site-packages/scipy/sparse/_index.py:102: SparseEfficiencyWarning: Changing the sparsity structure of a csr_matrix is expensive. lil_matrix is more efficient.\n",
      "  self._set_intXint(row, col, x.flat[0])\n"
     ]
    },
    {
     "name": "stdout",
     "output_type": "stream",
     "text": [
      "               0          1\n",
      "0     -10.017430  12.200328\n",
      "1      -9.722921  11.166442\n",
      "2      -6.559274   0.541099\n",
      "3      -3.815936  -4.034639\n",
      "4       2.333517  -4.619865\n",
      "...          ...        ...\n",
      "12899  -4.917224  -6.820125\n",
      "12900  -4.871961  -2.186816\n",
      "12901  -5.901116  -0.318564\n",
      "12902 -12.669922  14.244285\n",
      "12903 -19.034169   8.494370\n",
      "\n",
      "[12904 rows x 2 columns]\n"
     ]
    },
    {
     "data": {
      "image/png": "[encoded data removed]",
      "text/plain": [
       "<Figure size 800x600 with 1 Axes>"
      ]
     },
     "metadata": {},
     "output_type": "display_data"
    }
   ],
   "source": [
    "X_1=redimensionarISOMAP(X[\"0\"])\n",
    "plot_points_with_labels(X_1,X[\"value\"],\"ISOMAP\")"
   ]
  },
  {
   "cell_type": "code",
   "execution_count": 19,
   "metadata": {},
   "outputs": [],
   "source": [
    "def redimensionarTSNE(X):\n",
    "    tsne = TSNE(n_components=2, verbose=1, perplexity=40, n_iter=1000)\n",
    "    X_vectores = X.apply(pd.Series)\n",
    "    X_vec = tsne.fit_transform(X_vectores)\n",
    "    X_TSNEvec = pd.DataFrame(X_vec,index=X_vectores.index)\n",
    "    print(X_TSNEvec)\n",
    "    return X_TSNEvec"
   ]
  },
  {
   "cell_type": "code",
   "execution_count": 21,
   "metadata": {},
   "outputs": [],
   "source": [
    "def redimensionarISOMAP(X):\n",
    "    isomap=Isomap(n_components=2)\n",
    "    X_vectores = X.apply(pd.Series)\n",
    "    X_vec = isomap.fit_transform(X_vectores)\n",
    "    X_ISOMAPvec = pd.DataFrame(X_vec,index=X_vectores.index)\n",
    "    print(X_ISOMAPvec)\n",
    "    return X_ISOMAPvec"
   ]
  },
  {
   "cell_type": "code",
   "execution_count": 23,
   "metadata": {},
   "outputs": [],
   "source": [
    "def SVM(X,Y,exitmodel):\n",
    "  print('%%%%%%TRAINING MODEL%%%%%%')\n",
    "  X_train=np.array(X.tolist())\n",
    "  Y_train=np.array(Y.tolist())\n",
    "  svm_model = SVC(kernel='rbf')\n",
    "  svm_model.fit(X_train, Y_train)\n",
    "  joblib.dump(svm_model,exitmodel)"
   ]
  },
  {
   "cell_type": "code",
   "execution_count": 39,
   "metadata": {},
   "outputs": [],
   "source": [
    "def SVM_linear(X,Y,exitmodel):\n",
    "  print('%%%%%%TRAINING MODEL%%%%%%')\n",
    "  X_train=np.array(X.tolist())\n",
    "  X_train=X_train.reshape(-1, 1)\n",
    "  Y_train=np.array(Y.tolist())\n",
    "  svm_model = SVC(kernel='linear')\n",
    "  svm_model.fit(X_train, Y_train)\n",
    "  joblib.dump(svm_model,exitmodel)"
   ]
  },
  {
   "cell_type": "code",
   "execution_count": 68,
   "metadata": {},
   "outputs": [],
   "source": [
    "def NaiveBayes(X,Y,exitmodel):\n",
    "  print('%%%%%%TRAINING MODEL%%%%%%')\n",
    "  X_train=np.array(X.tolist())\n",
    "  Y_train=np.array(Y.tolist())\n",
    "  Bayes_model = GaussianNB()\n",
    "  Bayes_model.fit(X_train, Y_train)\n",
    "  joblib.dump(Bayes_model,exitmodel)"
   ]
  },
  {
   "cell_type": "code",
   "execution_count": 12,
   "metadata": {},
   "outputs": [],
   "source": [
    "def RNA(X,Y,exitmodel):\n",
    "  print('%%%%%%TRAINING MODEL%%%%%%')\n",
    "  X_train=np.array(X.tolist())\n",
    "  Y_train=np.array(Y.tolist())\n",
    "  modelRNA = tf.keras.Sequential([\n",
    "    tf.keras.layers.Dense(128, activation='relu', input_shape=(768,)),\n",
    "    tf.keras.layers.Dense(64, activation='relu'),\n",
    "    tf.keras.layers.Dense(64, activation='relu'),\n",
    "    tf.keras.layers.Dense(1, activation='sigmoid')])\n",
    "\n",
    "  modelRNA.compile(optimizer='adam',\n",
    "              loss='binary_crossentropy',\n",
    "              metrics=['accuracy'])\n",
    "\n",
    "# Entrenar el modelo\n",
    "  modelRNA.fit(X_train,Y_train, epochs=10, batch_size=32)\n",
    "  return modelRNA\n",
    "  #joblib.dump(modelRNA,exitmodel)\n",
    "\n"
   ]
  },
  {
   "cell_type": "code",
   "execution_count": 24,
   "metadata": {},
   "outputs": [
    {
     "name": "stdout",
     "output_type": "stream",
     "text": [
      "%%%%%%TRAINING MODEL%%%%%%\n"
     ]
    }
   ],
   "source": [
    "modelRNA = SVM(X[\"0\"],X[\"value\"],\"./model/dataset1/SVM_model.pkl\")"
   ]
  },
  {
   "cell_type": "code",
   "execution_count": 14,
   "metadata": {},
   "outputs": [],
   "source": [
    "def load_model(model_path):\n",
    "  model = joblib.load(model_path)\n",
    "  return model"
   ]
  },
  {
   "cell_type": "code",
   "execution_count": 15,
   "metadata": {},
   "outputs": [],
   "source": [
    "def prepare_test_data(datavalidationdirectory):\n",
    "  data_parsed = []\n",
    "\n",
    "  for element in [x for x in os.listdir(datavalidationdirectory) if '.txt' in x]:\n",
    "    id = re.findall(r'^[a-zA-Z\\-0-9]*\\-([0-9]+).txt$',element)[0]\n",
    "    with open(os.path.join(datavalidationdirectory,f'problem-{id}.txt'),'r', encoding=\"utf-8\") as f:\n",
    "      data = f.readlines()\n",
    "\n",
    "  \n",
    "    comb = []\n",
    "    for i in range(0,len(data)-1):\n",
    "      comb.append({\"id\":f'{id}-{i+1}-{i+2}',\"pair\": [data[i],data[i+1]]})\n",
    "    data_parsed.append(comb)\n",
    "\n",
    "  with open(os.path.join(datavalidationdirectory,'validation.json'),'w',encoding=\"utf-8\") as f:\n",
    "    js.dump(data_parsed, f, indent=4)\n",
    "\n",
    "  print(\"validation data prepared\")\n"
   ]
  },
  {
   "cell_type": "code",
   "execution_count": 16,
   "metadata": {},
   "outputs": [],
   "source": [
    "def evaluate_model(datavalidation_path,prediction_path,modelSVM):\n",
    "\n",
    "  with open(os.path.join(datavalidation_path,'validation.json')) as f:\n",
    "    data = js.load(f)\n",
    "  print(\"----------- PREDICTION ------------\")\n",
    "  for dict in data:\n",
    "    conf = []\n",
    "    for dict_line in dict:\n",
    "      X_0 = np.array(utils_bert_embedding(specialTokens(dict_line[\"pair\"][0]),tokenizer, model)[0] )\n",
    "      X_1 = np.array(utils_bert_embedding(specialTokens(dict_line[\"pair\"][1]),tokenizer, model)[0] )\n",
    "      X = X_0 - X_1\n",
    "      #X = np.absolute(X)\n",
    "      X = X.reshape(1,-1)\n",
    "      temp = np.round(modelSVM.predict(X))\n",
    "      print(temp)\n",
    "      conf.append(int(temp))\n",
    "      temp=[]\n",
    "\n",
    "      problem_number = int(re.findall(r'([0-9]+)-[0-9]+-[0-9]+',dict_line[\"id\"])[0])\n",
    "      print(os.path.join(prediction_path,f\"solution-problem-{problem_number}.json\"))\n",
    "      with open(os.path.join(prediction_path,f\"solution-problem-{problem_number}.json\"),\"w+\") as f:\n",
    "        js.dump({\"changes\":conf},f)"
   ]
  },
  {
   "cell_type": "code",
   "execution_count": 27,
   "metadata": {},
   "outputs": [],
   "source": [
    "def evaluate_modelOneText(datavalidation_path,prediction_path,modelSVM):\n",
    "\n",
    "  with open(os.path.join(datavalidation_path,'validation.json')) as f:\n",
    "    data = js.load(f)\n",
    "  print(\"----------- PREDICTION ------------\")\n",
    "  for dict in data:\n",
    "    conf = []\n",
    "    for dict_line in dict:\n",
    "      X = np.array(utils_bert_embedding(specialTokens(dict_line[\"pair\"][0] + \" [SEP] \" + dict_line[\"pair\"][1]),tokenizer, model)[0] )\n",
    "      #X = np.absolute(X)\n",
    "      X = X.reshape(1,-1)\n",
    "      temp = np.round(modelSVM.predict(X))\n",
    "      print(temp)\n",
    "      conf.append(int(temp))\n",
    "      temp=[]\n",
    "\n",
    "      problem_number = int(re.findall(r'([0-9]+)-[0-9]+-[0-9]+',dict_line[\"id\"])[0])\n",
    "      print(os.path.join(prediction_path,f\"solution-problem-{problem_number}.json\"))\n",
    "      with open(os.path.join(prediction_path,f\"solution-problem-{problem_number}.json\"),\"w+\") as f:\n",
    "        js.dump({\"changes\":conf},f)"
   ]
  },
  {
   "cell_type": "code",
   "execution_count": 43,
   "metadata": {},
   "outputs": [],
   "source": [
    "modelo=(\"./model/dataset1/CosineSim_model_linear.pkl\")"
   ]
  },
  {
   "cell_type": "code",
   "execution_count": 49,
   "metadata": {},
   "outputs": [
    {
     "name": "stdout",
     "output_type": "stream",
     "text": [
      "validation data prepared\n"
     ]
    }
   ],
   "source": [
    "prepare_test_data(\"../corpus/dataset3/validation/\")"
   ]
  },
  {
   "cell_type": "code",
   "execution_count": 28,
   "metadata": {},
   "outputs": [
    {
     "name": "stdout",
     "output_type": "stream",
     "text": [
      "----------- PREDICTION ------------\n"
     ]
    },
    {
     "ename": "UnboundLocalError",
     "evalue": "local variable 'X' referenced before assignment",
     "output_type": "error",
     "traceback": [
      "\u001b[0;31m---------------------------------------------------------------------------\u001b[0m",
      "\u001b[0;31mUnboundLocalError\u001b[0m                         Traceback (most recent call last)",
      "\u001b[1;32m/home/gianni/Documentos/DamianW2V/Transformers/BERTonizer.ipynb Celda 44\u001b[0m line \u001b[0;36m1\n\u001b[0;32m----> <a href='vscode-notebook-cell:/home/gianni/Documentos/DamianW2V/Transformers/BERTonizer.ipynb#X61sZmlsZQ%3D%3D?line=0'>1</a>\u001b[0m evaluate_modelOneText(\u001b[39m\"\u001b[39;49m\u001b[39m../corpus/dataset1/validation/\u001b[39;49m\u001b[39m\"\u001b[39;49m,\u001b[39m\"\u001b[39;49m\u001b[39m../corpus/dataset1/predictionsBERT/\u001b[39;49m\u001b[39m\"\u001b[39;49m,modelRNA)\n",
      "\u001b[1;32m/home/gianni/Documentos/DamianW2V/Transformers/BERTonizer.ipynb Celda 44\u001b[0m line \u001b[0;36m1\n\u001b[1;32m      <a href='vscode-notebook-cell:/home/gianni/Documentos/DamianW2V/Transformers/BERTonizer.ipynb#X61sZmlsZQ%3D%3D?line=8'>9</a>\u001b[0m X_0 \u001b[39m=\u001b[39m np\u001b[39m.\u001b[39marray(utils_bert_embedding(specialTokens(dict_line[\u001b[39m\"\u001b[39m\u001b[39mpair\u001b[39m\u001b[39m\"\u001b[39m][\u001b[39m0\u001b[39m] \u001b[39m+\u001b[39m \u001b[39m\"\u001b[39m\u001b[39m [SEP] \u001b[39m\u001b[39m\"\u001b[39m \u001b[39m+\u001b[39m dict_line[\u001b[39m\"\u001b[39m\u001b[39mpair\u001b[39m\u001b[39m\"\u001b[39m][\u001b[39m1\u001b[39m]),tokenizer, model)[\u001b[39m0\u001b[39m] )\n\u001b[1;32m     <a href='vscode-notebook-cell:/home/gianni/Documentos/DamianW2V/Transformers/BERTonizer.ipynb#X61sZmlsZQ%3D%3D?line=9'>10</a>\u001b[0m \u001b[39m#X = np.absolute(X)\u001b[39;00m\n\u001b[0;32m---> <a href='vscode-notebook-cell:/home/gianni/Documentos/DamianW2V/Transformers/BERTonizer.ipynb#X61sZmlsZQ%3D%3D?line=10'>11</a>\u001b[0m X \u001b[39m=\u001b[39m X\u001b[39m.\u001b[39mreshape(\u001b[39m1\u001b[39m,\u001b[39m-\u001b[39m\u001b[39m1\u001b[39m)\n\u001b[1;32m     <a href='vscode-notebook-cell:/home/gianni/Documentos/DamianW2V/Transformers/BERTonizer.ipynb#X61sZmlsZQ%3D%3D?line=11'>12</a>\u001b[0m temp \u001b[39m=\u001b[39m np\u001b[39m.\u001b[39mround(modelSVM\u001b[39m.\u001b[39mpredict(X))\n\u001b[1;32m     <a href='vscode-notebook-cell:/home/gianni/Documentos/DamianW2V/Transformers/BERTonizer.ipynb#X61sZmlsZQ%3D%3D?line=12'>13</a>\u001b[0m \u001b[39mprint\u001b[39m(temp)\n",
      "\u001b[0;31mUnboundLocalError\u001b[0m: local variable 'X' referenced before assignment"
     ]
    }
   ],
   "source": [
    "evaluate_modelOneText(\"../corpus/dataset1/validation/\",\"../corpus/dataset1/predictionsBERT/\",modelRNA)"
   ]
  },
  {
   "cell_type": "code",
   "execution_count": null,
   "metadata": {},
   "outputs": [],
   "source": []
  },
  {
   "cell_type": "code",
   "execution_count": null,
   "metadata": {},
   "outputs": [],
   "source": []
  }
 ],
 "metadata": {
  "kernelspec": {
   "display_name": "env1",
   "language": "python",
   "name": "python3"
  },
  "language_info": {
   "codemirror_mode": {
    "name": "ipython",
    "version": 3
   },
   "file_extension": ".py",
   "mimetype": "text/x-python",
   "name": "python",
   "nbconvert_exporter": "python",
   "pygments_lexer": "ipython3",
   "version": "3.10.10"
  },
  "orig_nbformat": 4
 },
 "nbformat": 4,
 "nbformat_minor": 2
}
